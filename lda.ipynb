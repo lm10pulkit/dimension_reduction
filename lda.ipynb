{
 "cells": [
  {
   "cell_type": "code",
   "execution_count": null,
   "metadata": {},
   "outputs": [],
   "source": [
    "import numpy as np\n",
    "import pandas as pd\n",
    "import matplotlib.pyplot as plt\n",
    "import seaborn as sns\n",
    "%matplotlib inline\n"
   ]
  },
  {
   "cell_type": "code",
   "execution_count": null,
   "metadata": {},
   "outputs": [],
   "source": [
    "columns = [\"var\",\"skewness\",\"curtosis\",\"entropy\",\"class\"]\n",
    "df = pd.read_csv(\"http://archive.ics.uci.edu/ml/machine-learning-databases/00267/\\\n",
    "data_banknote_authentication.txt\",index_col=False, names = columns)"
   ]
  },
  {
   "cell_type": "code",
   "execution_count": null,
   "metadata": {},
   "outputs": [],
   "source": [
    "mean_vec = []\n",
    "for i in df[\"class\"].unique():\n",
    "    mean_vec.append( np.array((df[df[\"class\"]==i].mean()[:4]) ))\n",
    "print(mean_vec)"
   ]
  },
  {
   "cell_type": "code",
   "execution_count": null,
   "metadata": {},
   "outputs": [],
   "source": [
    "SW = np.zeros((4,4))\n",
    "for i in range(1,4): #2 is number of classes\n",
    "    \n",
    "    per_class_sc_mat = np.zeros((4,4))\n",
    "    \n",
    "    for j in range(df[df[\"class\"]==i].shape[0]):\n",
    "        row, mv = df.loc[j][:4].reshape(4,1), mean_vec[i].reshape(4,1)\n",
    "        per_class_sc_mat += (row-mv).dot((row-mv).T)\n",
    "    \n",
    "    SW += per_class_sc_mat\n",
    "\n",
    "print('within-class Scatter Matrix:\\n', SW)\n",
    "\n",
    "overall_mean = np.array(df.drop(\"class\", axis=1).mean())\n",
    "\n",
    "SB = np.zeros((4,4))\n",
    "\n",
    "for i in range(2): #2 is number of classes\n",
    "    n = df[df[\"class\"]==i].shape[0]\n",
    "    \n",
    "    mv = mean_vec[i].reshape(4,1)\n",
    "    \n",
    "    overall_mean = overall_mean.reshape(4,1) # make column vector\n",
    "    \n",
    "    SB += n * (mv - overall_mean).dot((mv - overall_mean).T)\n",
    "\n",
    "print('between-class Scatter Matrix:\\n', SB)"
   ]
  },
  {
   "cell_type": "code",
   "execution_count": null,
   "metadata": {},
   "outputs": [],
   "source": [
    "e_vals, e_vecs = np.linalg.eig(np.linalg.inv(SW).dot(SB))\n",
    "print('Eigenvectors \\n%s' %e_vecs)\n",
    "print('\\nEigenvalues \\n%s' %e_vals)"
   ]
  },
  {
   "cell_type": "code",
   "execution_count": null,
   "metadata": {},
   "outputs": [],
   "source": [
    "W = np.hstack((e_pairs[0][1].reshape(4,1), e_pairs[1][1].reshape(4,1)))\n",
    "print('Matrix W:\\n', W.real)"
   ]
  },
  {
   "cell_type": "code",
   "execution_count": null,
   "metadata": {},
   "outputs": [],
   "source": [
    "X_lda = X.dot(W)\n",
    "df[\"PC1\"] = X_lda[:,0]\n",
    "df[\"PC2\"] = X_lda[:,1]"
   ]
  },
  {
   "cell_type": "code",
   "execution_count": null,
   "metadata": {},
   "outputs": [],
   "source": []
  }
 ],
 "metadata": {
  "kernelspec": {
   "display_name": "Python 3",
   "language": "python",
   "name": "python3"
  }
 },
 "nbformat": 4,
 "nbformat_minor": 2
}
